{
 "cells": [
  {
   "cell_type": "code",
   "execution_count": 1,
   "metadata": {},
   "outputs": [],
   "source": [
    "import json\n",
    "dropped_players = []\n",
    "\n",
    "\n",
    "def write_to_file(players, round_num):\n",
    "    # Veriyi JSON formatında hazırlama\n",
    "    data = {\n",
    "        'round': round_num,\n",
    "        'players': [],\n",
    "        'dropped_players': []\n",
    "    }\n",
    "\n",
    "    # Oyuncu verilerini ekleme\n",
    "    for player in players:\n",
    "        data['players'].append({\n",
    "            'name': player.name,\n",
    "            'wins': [opponent.name if opponent != \"BYE\" else \"BYE\" for opponent in player.wins],\n",
    "            'losses': [opponent.name for opponent in player.losses],\n",
    "            'ties': [opponent.name for opponent in player.ties]\n",
    "        })\n",
    "\n",
    "    # Düşen oyuncuları ekleme\n",
    "    for player in dropped_players:\n",
    "        data['dropped_players'].append({\n",
    "            'name': player.name,\n",
    "            'wins': [opponent.name if opponent != \"BYE\" else \"BYE\" for opponent in player.wins],\n",
    "            'losses': [opponent.name for opponent in player.losses],\n",
    "            'ties': [opponent.name for opponent in player.ties]\n",
    "        })\n",
    "\n",
    "    # JSON verisini dosyaya yazma\n",
    "    with open(f\"round_{round_num}.json\", \"w\") as json_file:\n",
    "        json.dump(data, json_file, indent=4)\n",
    "\n",
    "    print(f\"Round {round_num} data written to round_{round_num}.json\")\n"
   ]
  },
  {
   "cell_type": "code",
   "execution_count": null,
   "metadata": {},
   "outputs": [],
   "source": [
    "def print_pairings(seats):\n",
    "    for i in range(0, len(seats)):\n",
    "        try:\n",
    "            print(\n",
    "                \"Table\",\n",
    "                i + 1,\n",
    "                \"    \",\n",
    "                seats[i][0].name,\n",
    "                \"(\" + str(seats[i][0].get_points()) + \")\",\n",
    "                \"VS.\",\n",
    "                seats[i][1].name,\n",
    "                \"(\" + str(seats[i][1].get_points()) + \")\",\n",
    "            )\n",
    "        except AttributeError:\n",
    "            print(\n",
    "                \"Table\",\n",
    "                i + 1,\n",
    "                \"    \",\n",
    "                seats[i][0].name,\n",
    "                \"(\" + str(seats[i][0].get_points()) + \")\",\n",
    "                \"VS.\",\n",
    "                seats[i][1],\n",
    "                \"This match does not need to be reported.\",\n",
    "            )\n"
   ]
  },
  {
   "cell_type": "code",
   "execution_count": 2,
   "metadata": {},
   "outputs": [
    {
     "name": "stdout",
     "output_type": "stream",
     "text": [
      "Round 1 data written to round_1.json\n"
     ]
    }
   ],
   "source": [
    "# Test için basit bir Player sınıfı\n",
    "class Player:\n",
    "    def __init__(self, name):\n",
    "        self.name = name\n",
    "        self.wins = []\n",
    "        self.losses = []\n",
    "        self.ties = []\n",
    "\n",
    "# Test verileri oluşturma\n",
    "def create_test_data():\n",
    "    player1 = Player(\"Alice\")\n",
    "    player2 = Player(\"Bob\")\n",
    "    player3 = Player(\"Charlie\")\n",
    "    player4 = Player(\"Dave\")\n",
    "\n",
    "    # Kazananlar ve kaybedenler tanımlanıyor\n",
    "    player1.wins.append(player2)\n",
    "    player1.losses.append(player3)\n",
    "    player1.ties.append(player4)\n",
    "\n",
    "    player2.wins.append(player3)\n",
    "    player2.losses.append(player1)\n",
    "\n",
    "    player3.wins.append(player4)\n",
    "    player3.losses.append(player1)\n",
    "\n",
    "    player4.wins.append(player1)\n",
    "    player4.losses.append(player3)\n",
    "\n",
    "    players = [player1, player2, player3]\n",
    "    dropped_players = [player4]  # Dave turnuvadan düştü\n",
    "\n",
    "    return players, dropped_players\n",
    "\n",
    "# JSON yazma fonksiyonunu test etme\n",
    "players, dropped_players = create_test_data()\n",
    "\n",
    "# Test edilecek fonksiyonu çağırıyoruz\n",
    "write_to_file(players, 1)\n",
    "\n",
    "# JSON dosyasında \"round_1.json\" olarak çıkacak\n"
   ]
  },
  {
   "cell_type": "code",
   "execution_count": null,
   "metadata": {},
   "outputs": [],
   "source": []
  }
 ],
 "metadata": {
  "kernelspec": {
   "display_name": "qt_env",
   "language": "python",
   "name": "python3"
  },
  "language_info": {
   "codemirror_mode": {
    "name": "ipython",
    "version": 3
   },
   "file_extension": ".py",
   "mimetype": "text/x-python",
   "name": "python",
   "nbconvert_exporter": "python",
   "pygments_lexer": "ipython3",
   "version": "3.12.4"
  }
 },
 "nbformat": 4,
 "nbformat_minor": 2
}
